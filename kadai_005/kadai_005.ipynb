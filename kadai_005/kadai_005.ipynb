{
  "cells": [
    {
      "cell_type": "code",
      "execution_count": 23,
      "metadata": {
        "colab": {
          "base_uri": "https://localhost:8080/"
        },
        "id": "2YU2AHuk908D",
        "outputId": "f7af4fd1-44e2-4d55-89ea-888a699e36f0"
      },
      "outputs": [
        {
          "name": "stdout",
          "output_type": "stream",
          "text": [
            "75.0㎠\n"
          ]
        }
      ],
      "source": [
        "upper_side = 10\n",
        "lower_side = 20\n",
        "height = 5\n",
        "area = (upper_side + lower_side)*height /2\n",
        "\n",
        "print(f\"{area}㎠\")\n"
      ]
    },
    {
      "cell_type": "markdown",
      "metadata": {
        "id": "SKDxCmPp-Lgj"
      },
      "source": []
    }
  ],
  "metadata": {
    "colab": {
      "provenance": []
    },
    "kernelspec": {
      "display_name": "Python 3",
      "name": "python3"
    },
    "language_info": {
      "name": "python"
    }
  },
  "nbformat": 4,
  "nbformat_minor": 0
}
